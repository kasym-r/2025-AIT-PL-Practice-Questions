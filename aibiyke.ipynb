{
 "cells": [
  {
   "cell_type": "code",
   "execution_count": 19,
   "metadata": {},
   "outputs": [
    {
     "name": "stdout",
     "output_type": "stream",
     "text": [
      "8\n",
      "5\n",
      "34\n",
      "34\n"
     ]
    },
    {
     "data": {
      "text/plain": [
       "5"
      ]
     },
     "execution_count": 19,
     "metadata": {},
     "output_type": "execute_result"
    }
   ],
   "source": [
    "arr = [8, 5, 6, 7, 8]\n",
    "print(max(arr))\n",
    "print(min(arr))\n",
    "print(sum(arr))\n",
    "\n",
    "def summa(arr):\n",
    "    count = 0\n",
    "    for j in arr:\n",
    "        count += j\n",
    "    return count\n",
    "    \n",
    "print(summa(arr))\n",
    "\n",
    "def minimum(arr):\n",
    "    # arr.sort()\n",
    "    # return arr[0]\n",
    "    x = arr[0]\n",
    "    for i in arr:\n",
    "        if i < x:\n",
    "            x = i\n",
    "    return x\n",
    "\n",
    "minimum(arr)"
   ]
  },
  {
   "cell_type": "code",
   "execution_count": 20,
   "metadata": {},
   "outputs": [
    {
     "name": "stdout",
     "output_type": "stream",
     "text": [
      "9\n",
      "2\n"
     ]
    }
   ],
   "source": [
    "arr = [2, 4, 9, 9]\n",
    "\n",
    "def summa(arr):\n",
    "    count = 0\n",
    "    for i in arr:\n",
    "        count += i\n",
    "    return count\n",
    "\n",
    "summa(arr)  \n",
    "\n",
    "def maximum(arr):\n",
    "    x = arr[0]\n",
    "    for i in arr:\n",
    "        if i > x:\n",
    "            x = i\n",
    "    return x\n",
    "\n",
    "print(maximum(arr))      \n",
    "\n",
    "def minimum(arr):\n",
    "    x = arr[0]\n",
    "    for i in arr:\n",
    "        if i < x:\n",
    "            x = i\n",
    "    return x\n",
    "    \n",
    "print(minimum(arr))"
   ]
  },
  {
   "cell_type": "code",
   "execution_count": 5,
   "metadata": {},
   "outputs": [],
   "source": [
    "arr = []\n",
    "arr += [1]"
   ]
  },
  {
   "cell_type": "code",
   "execution_count": 20,
   "metadata": {},
   "outputs": [
    {
     "data": {
      "text/plain": [
       "225"
      ]
     },
     "execution_count": 20,
     "metadata": {},
     "output_type": "execute_result"
    }
   ],
   "source": [
    "names = ['cola', 'smetana', 'banan', 'ananas', 'yogurt', 'bread', 'notebook']\n",
    "prices = [55, 95, 35, -20, 47, 30, 220]\n",
    "\n",
    "def getPrice(product):\n",
    "    for name, price in zip(names, prices):\n",
    "        if product == name:\n",
    "            return price\n",
    "    return 0\n",
    "\n",
    "def getPrice2(product):\n",
    "    for i in range(len(names)):\n",
    "        if names[i] == product:\n",
    "            return prices[i]\n",
    "\n",
    "getPrice2('notebook')\n",
    "\n",
    "def getTotal(products, quantity):\n",
    "    count = 0\n",
    "    for product, q in zip(products, quantity):\n",
    "        count += getPrice(product) * q\n",
    "    return count\n",
    "\n",
    "products = ['bread', 'cola']\n",
    "quantity = [2, 3]\n",
    "getTotal(products, quantity)"
   ]
  },
  {
   "cell_type": "code",
   "execution_count": 5,
   "metadata": {},
   "outputs": [
    {
     "name": "stdout",
     "output_type": "stream",
     "text": [
      "p , p , pp , p , ew\n"
     ]
    }
   ],
   "source": [
    "str = 'p p     pp p   ew '\n",
    "print(\" , \".join(str.split()))"
   ]
  },
  {
   "cell_type": "code",
   "execution_count": null,
   "metadata": {},
   "outputs": [],
   "source": [
    "library = {\n",
    "\"Fiction\": [\n",
    "{\"title\": \"The Great Gatsby\", \"available\": True},\n",
    "{\"title\": \"To Kill a Mockingbird\", \"available\": False}\n",
    "],\n",
    "\"Science\": [\n",
    "{\"title\": \"A Brief History of Time\", \"available\": True},\n",
    "{\"title\": \"The Selfish Gene\", \"available\": False},\n",
    "{\"title\": \"Quantum Mechanics\", \"available\": True}\n",
    "],\n",
    "\"History\": [\n",
    "{\"title\": \"The Histories\", \"available\": True},\n",
    "{\"title\": \"The Iliad\", \"available\": True},\n",
    "{\"title\": \"The Second World War\", \"available\": False},\n",
    "{\"title\": \"Hiroshima\", \"available\": True}\n",
    "]\n",
    "}"
   ]
  }
 ],
 "metadata": {
  "kernelspec": {
   "display_name": "Python 3",
   "language": "python",
   "name": "python3"
  },
  "language_info": {
   "codemirror_mode": {
    "name": "ipython",
    "version": 3
   },
   "file_extension": ".py",
   "mimetype": "text/x-python",
   "name": "python",
   "nbconvert_exporter": "python",
   "pygments_lexer": "ipython3",
   "version": "3.12.4"
  }
 },
 "nbformat": 4,
 "nbformat_minor": 2
}
