{
 "cells": [
  {
   "cell_type": "code",
   "execution_count": 19,
   "metadata": {},
   "outputs": [
    {
     "name": "stdout",
     "output_type": "stream",
     "text": [
      "8\n",
      "5\n",
      "34\n",
      "34\n"
     ]
    },
    {
     "data": {
      "text/plain": [
       "5"
      ]
     },
     "execution_count": 19,
     "metadata": {},
     "output_type": "execute_result"
    }
   ],
   "source": [
    "arr = [8, 5, 6, 7, 8]\n",
    "print(max(arr))\n",
    "print(min(arr))\n",
    "print(sum(arr))\n",
    "\n",
    "def summa(arr):\n",
    "    count = 0\n",
    "    for j in arr:\n",
    "        count += j\n",
    "    return count\n",
    "    \n",
    "print(summa(arr))\n",
    "\n",
    "def minimum(arr):\n",
    "    # arr.sort()\n",
    "    # return arr[0]\n",
    "    x = arr[0]\n",
    "    for i in arr:\n",
    "        if i < x:\n",
    "            x = i\n",
    "    return x\n",
    "\n",
    "minimum(arr)"
   ]
  },
  {
   "cell_type": "code",
   "execution_count": 20,
   "metadata": {},
   "outputs": [
    {
     "name": "stdout",
     "output_type": "stream",
     "text": [
      "9\n",
      "2\n"
     ]
    }
   ],
   "source": [
    "arr = [2, 4, 9, 9]\n",
    "\n",
    "def summa(arr):\n",
    "    count = 0\n",
    "    for i in arr:\n",
    "        count += i\n",
    "    return count\n",
    "\n",
    "summa(arr)  \n",
    "\n",
    "def maximum(arr):\n",
    "    x = arr[0]\n",
    "    for i in arr:\n",
    "        if i > x:\n",
    "            x = i\n",
    "    return x\n",
    "\n",
    "print(maximum(arr))      \n",
    "\n",
    "def minimum(arr):\n",
    "    x = arr[0]\n",
    "    for i in arr:\n",
    "        if i < x:\n",
    "            x = i\n",
    "    return x\n",
    "    \n",
    "print(minimum(arr))"
   ]
  },
  {
   "cell_type": "code",
   "execution_count": null,
   "metadata": {},
   "outputs": [],
   "source": []
  }
 ],
 "metadata": {
  "kernelspec": {
   "display_name": "Python 3",
   "language": "python",
   "name": "python3"
  },
  "language_info": {
   "codemirror_mode": {
    "name": "ipython",
    "version": 3
   },
   "file_extension": ".py",
   "mimetype": "text/x-python",
   "name": "python",
   "nbconvert_exporter": "python",
   "pygments_lexer": "ipython3",
   "version": "3.12.4"
  }
 },
 "nbformat": 4,
 "nbformat_minor": 2
}
