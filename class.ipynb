{
 "cells": [
  {
   "cell_type": "code",
   "execution_count": 3,
   "metadata": {},
   "outputs": [
    {
     "name": "stdout",
     "output_type": "stream",
     "text": [
      "Your grade is C or lower\n"
     ]
    }
   ],
   "source": [
    "avg = int(input())\n",
    "if avg <= 100: \n",
    "    if avg >= 93:\n",
    "        print(\"A\")\n",
    "    elif avg >= 90:\n",
    "        print(\"A-\")\n",
    "    elif avg >= 87:\n",
    "        print(\"B+\")\n",
    "    elif avg >= 84:\n",
    "        print(\"B\")\n",
    "    elif avg >= 81:\n",
    "        print(\"B-\")\n",
    "    else:\n",
    "        print(\"Your grade is C or lower\")\n",
    "else:\n",
    "    print(\"Error\")"
   ]
  },
  {
   "cell_type": "code",
   "execution_count": 5,
   "metadata": {},
   "outputs": [
    {
     "name": "stdout",
     "output_type": "stream",
     "text": [
      "False\n",
      "emilAIT <-> AIT\n"
     ]
    }
   ],
   "source": [
    "s = \"emil\"\n",
    "b = \"AIT\"\n",
    "print(f\"{s+b < b}\")\n",
    "print(f\"{s+b} <-> {b}\")\n"
   ]
  },
  {
   "cell_type": "code",
   "execution_count": 12,
   "metadata": {},
   "outputs": [
    {
     "name": "stdout",
     "output_type": "stream",
     "text": [
      "51 97\n"
     ]
    }
   ],
   "source": [
    "print(ord(''), ord('a'))"
   ]
  },
  {
   "cell_type": "code",
   "execution_count": 17,
   "metadata": {},
   "outputs": [
    {
     "name": "stdout",
     "output_type": "stream",
     "text": [
      "4950\n"
     ]
    }
   ],
   "source": [
    "count = 0\n",
    "for i in range(100):\n",
    "    count += i\n",
    "print(count)"
   ]
  },
  {
   "cell_type": "code",
   "execution_count": 20,
   "metadata": {},
   "outputs": [
    {
     "name": "stdout",
     "output_type": "stream",
     "text": [
      "0\n",
      "2\n",
      "4\n",
      "6\n",
      "8\n"
     ]
    }
   ],
   "source": [
    "for i in range(0, 10, 2):\n",
    "    print(i)"
   ]
  },
  {
   "cell_type": "code",
   "execution_count": null,
   "metadata": {},
   "outputs": [],
   "source": [
    "###### 50 Tasks ######"
   ]
  },
  {
   "cell_type": "code",
   "execution_count": 22,
   "metadata": {},
   "outputs": [
    {
     "name": "stdout",
     "output_type": "stream",
     "text": [
      "20\n"
     ]
    }
   ],
   "source": [
    "#1 Что произойдёт в коде: a = 10; b = a; b = 20; print(a). Объясните результат.\n",
    "a = 10\n",
    "b = a\n",
    "b = 20\n",
    "print(a)\n",
    "# a will be 10 because when we write b = a we give the value of a to b and when we write b = 20 we reset the value of b from 10 to 20, but a stays the same"
   ]
  },
  {
   "cell_type": "code",
   "execution_count": 76,
   "metadata": {},
   "outputs": [
    {
     "name": "stdout",
     "output_type": "stream",
     "text": [
      "10\n",
      "20\n",
      "[1, 2, 3, 4, 5, 11]\n",
      "[1, 2, 3, 4, 5, 11]\n"
     ]
    }
   ],
   "source": [
    "#2 Чем отличается работа с числами и со списками при присваивании переменной? Покажите пример.\n",
    "a = 10\n",
    "b = a\n",
    "b = 20\n",
    "print(a)\n",
    "print(b)\n",
    "\n",
    "x = [1, 2, 3, 4, 5]\n",
    "y = x\n",
    "y.append(11)\n",
    "print(x)\n",
    "print(y)"
   ]
  },
  {
   "cell_type": "code",
   "execution_count": 24,
   "metadata": {},
   "outputs": [
    {
     "name": "stdout",
     "output_type": "stream",
     "text": [
      "4\n"
     ]
    }
   ],
   "source": [
    "#3 Дана строка a = 'emil'. Как узнать её длину?\n",
    "a = 'emil'\n",
    "print(len(a))"
   ]
  },
  {
   "cell_type": "code",
   "execution_count": 25,
   "metadata": {},
   "outputs": [
    {
     "name": "stdout",
     "output_type": "stream",
     "text": [
      "<class 'list'>\n"
     ]
    }
   ],
   "source": [
    "#4 Какой тип данных у переменной a = [10, 20]?\n",
    "a = [10, 20]\n",
    "print(type(a))"
   ]
  },
  {
   "cell_type": "code",
   "execution_count": 33,
   "metadata": {},
   "outputs": [
    {
     "name": "stdout",
     "output_type": "stream",
     "text": [
      "Type of a variable: <class 'int'>\n"
     ]
    }
   ],
   "source": [
    "#5 Напишите код, который определяет тип переменной и выводит его на экран.\n",
    "x = 42\n",
    "print(\"Type of a variable:\", type(x))"
   ]
  },
  {
   "cell_type": "code",
   "execution_count": 31,
   "metadata": {},
   "outputs": [],
   "source": [
    "#6 Объясните разницу между / и // в Python.\n",
    "\n",
    "#/ and // are both divisions, but / returns float value, while // returns int value rounded down to the nearest integer"
   ]
  },
  {
   "cell_type": "code",
   "execution_count": null,
   "metadata": {},
   "outputs": [],
   "source": [
    "#7 Почему результат 10 / 3 отличается от 10 // 3?\n",
    "\n",
    "#because 10/3 returns floating number which is 3.33... and 10//3 returns an integer part of the quotient "
   ]
  },
  {
   "cell_type": "code",
   "execution_count": 34,
   "metadata": {},
   "outputs": [
    {
     "name": "stdout",
     "output_type": "stream",
     "text": [
      "1\n"
     ]
    }
   ],
   "source": [
    "#8 Составьте выражение, которое возвращает остаток от деления числа 25 на 4.\n",
    "print(25 % 4)"
   ]
  },
  {
   "cell_type": "code",
   "execution_count": 3,
   "metadata": {},
   "outputs": [
    {
     "name": "stdout",
     "output_type": "stream",
     "text": [
      "1275\n"
     ]
    }
   ],
   "source": [
    "#9 Напишите код, который считает сумму всех чисел от 1 до 50 включительно.\n",
    "count = 0\n",
    "for i in range(51):\n",
    "    count += i\n",
    "print(count)"
   ]
  },
  {
   "cell_type": "code",
   "execution_count": 52,
   "metadata": {},
   "outputs": [
    {
     "name": "stdout",
     "output_type": "stream",
     "text": [
      "2.0\n"
     ]
    }
   ],
   "source": [
    "#10 Напишите программу, которая принимает три числа и возвращает их среднее значение.\n",
    "a, b, c = map(int, input('Enter 3 numbers:').split())\n",
    "print((a+b+c)/3)"
   ]
  },
  {
   "cell_type": "code",
   "execution_count": 53,
   "metadata": {},
   "outputs": [
    {
     "data": {
      "text/plain": [
       "False"
      ]
     },
     "execution_count": 53,
     "metadata": {},
     "output_type": "execute_result"
    }
   ],
   "source": [
    "#11 Объясните результат выражения True and False.\n",
    "True and False #is False because when we have \"and\", both of the given conditions have to be True"
   ]
  },
  {
   "cell_type": "code",
   "execution_count": 55,
   "metadata": {},
   "outputs": [
    {
     "data": {
      "text/plain": [
       "True"
      ]
     },
     "execution_count": 55,
     "metadata": {},
     "output_type": "execute_result"
    }
   ],
   "source": [
    "#12 Объясните результат выражения False or True.\n",
    "False or True #is True because when we have \"or\" and only one of the conditions is True, the whole expression is gonna be True. So, one True is enough in \"or\" cases"
   ]
  },
  {
   "cell_type": "code",
   "execution_count": 56,
   "metadata": {},
   "outputs": [
    {
     "data": {
      "text/plain": [
       "True"
      ]
     },
     "execution_count": 56,
     "metadata": {},
     "output_type": "execute_result"
    }
   ],
   "source": [
    "#13 Что вернёт not (True and False)?\n",
    "not (True and False)"
   ]
  },
  {
   "cell_type": "code",
   "execution_count": 57,
   "metadata": {},
   "outputs": [
    {
     "data": {
      "text/plain": [
       "True"
      ]
     },
     "execution_count": 57,
     "metadata": {},
     "output_type": "execute_result"
    }
   ],
   "source": [
    "#14 Какое значение имеет выражение: (True and True) or (False and True).\n",
    "(True and True) or (False and True)"
   ]
  },
  {
   "cell_type": "code",
   "execution_count": 60,
   "metadata": {},
   "outputs": [
    {
     "name": "stdout",
     "output_type": "stream",
     "text": [
      "True\n"
     ]
    }
   ],
   "source": [
    "#15 Составьте логическое выражение, которое возвращает True, если число больше 10 и чётное.\n",
    "x = int(input())\n",
    "if x > 10 and x % 2 == 0:\n",
    "    print(True)\n",
    "else:\n",
    "    print(False)"
   ]
  },
  {
   "cell_type": "code",
   "execution_count": 65,
   "metadata": {},
   "outputs": [
    {
     "name": "stdout",
     "output_type": "stream",
     "text": [
      "Weather is neather sunny, nor cloudy, nor rainy.\n"
     ]
    }
   ],
   "source": [
    "#16 Напишите программу, которая спрашивает у пользователя погоду (sunny, cloudy, rainy) и выводит разный текст.\n",
    "x = input(\"How is the weather outside?\")\n",
    "if x == \"sunny\":\n",
    "    print(\"Go to the swimming pool!\")\n",
    "elif x == \"cloudy\":\n",
    "    print(\"Go to the cinema!\")\n",
    "elif x == \"rainy\":\n",
    "    print(\"You'd better stay at home!\")\n",
    "else: \n",
    "    print(\"Weather is neather sunny, nor cloudy, nor rainy.\")"
   ]
  },
  {
   "cell_type": "code",
   "execution_count": 66,
   "metadata": {},
   "outputs": [],
   "source": [
    "#17 Чем отличается последовательность if-elif-else от трёх независимых if?\n",
    "\n",
    "#when we have separate IFs it means that we have 3 different blocks of instructions, while when we have if-elif-else is all 1 block of instructions"
   ]
  },
  {
   "cell_type": "code",
   "execution_count": 70,
   "metadata": {},
   "outputs": [
    {
     "name": "stdout",
     "output_type": "stream",
     "text": [
      "Access permitted!\n"
     ]
    }
   ],
   "source": [
    "#18 Напишите программу, которая спрашивает возраст и печатает «Доступ разрешён», если возраст ≥ 18.\n",
    "x = int(input('Enter your age:'))\n",
    "if 0 < x < 120:\n",
    "    if x >= 18:\n",
    "        print('Access permitted!')\n",
    "    else:\n",
    "        print('Access denied!')\n",
    "else:\n",
    "    print('Age is not valid!')"
   ]
  },
  {
   "cell_type": "code",
   "execution_count": 77,
   "metadata": {},
   "outputs": [
    {
     "name": "stdout",
     "output_type": "stream",
     "text": [
      "A\n"
     ]
    }
   ],
   "source": [
    "#19 Реализуйте программу, которая определяет оценку по среднему баллу: 90+ → A, 80–89 → B, 70–79 → C, ниже 70 → Failed.\n",
    "x = int(input('Average grade:'))\n",
    "if 0 <= x <= 100:\n",
    "    if x >= 90: \n",
    "        print('A')\n",
    "    elif x >= 80:\n",
    "        print('B')\n",
    "    elif x >= 70:\n",
    "        print('C')\n",
    "    else:\n",
    "        print('You have failed!')\n",
    "else:\n",
    "    print('Average grade is not valid!')"
   ]
  },
  {
   "cell_type": "code",
   "execution_count": null,
   "metadata": {},
   "outputs": [],
   "source": [
    "#20 Почему важно проверять «ошибочные» значения, например if avg < 0 or avg > 100?\n",
    "\n",
    "#to avoid invalid inputs which can lead to inappropriate outputs"
   ]
  },
  {
   "cell_type": "code",
   "execution_count": 73,
   "metadata": {},
   "outputs": [
    {
     "name": "stdout",
     "output_type": "stream",
     "text": [
      "[15, 91, 74, 24, 35, 17, 12, 45, 91, 98]\n"
     ]
    }
   ],
   "source": [
    "#21 Создайте список из 10 случайных чисел от 1 до 100.\n",
    "import random \n",
    "list = []\n",
    "for i in range(1, 11):\n",
    "    list.append(random.randint(1, 100))\n",
    "print(list)"
   ]
  },
  {
   "cell_type": "code",
   "execution_count": 2,
   "metadata": {},
   "outputs": [
    {
     "data": {
      "text/plain": [
       "[1, 3, 4, 4, 5, 5, 32, 67]"
      ]
     },
     "execution_count": 2,
     "metadata": {},
     "output_type": "execute_result"
    }
   ],
   "source": [
    "#22 Как отсортировать список по возрастанию?\n",
    "array = [1, 4, 5, 4, 3, 32, 5, 67]\n",
    "sorted(array)"
   ]
  },
  {
   "cell_type": "code",
   "execution_count": 31,
   "metadata": {},
   "outputs": [
    {
     "name": "stdout",
     "output_type": "stream",
     "text": [
      "88.58333333333333\n"
     ]
    }
   ],
   "source": [
    "#23 Напишите программу, которая берёт 12 лучших оценок из списка и считает их среднее.\n",
    "grades = [78, 89, 81, 83, 84, 85, 90, 96, 75, 65, 100, 97, 89, 91, 50]\n",
    "top_12_grades = sorted(grades)[-12:]\n",
    "avg_of_top_12 = sum(top_12_grades)/12\n",
    "print(avg_of_top_12)"
   ]
  },
  {
   "cell_type": "code",
   "execution_count": 43,
   "metadata": {},
   "outputs": [
    {
     "name": "stdout",
     "output_type": "stream",
     "text": [
      "2\n",
      "18\n"
     ]
    }
   ],
   "source": [
    "#24 Напишите функцию, которая возвращает минимальный и максимальный элемент списка.\n",
    "def min_elem(list):\n",
    "    minimum = list[0]\n",
    "    for i in list:\n",
    "        if i < minimum:\n",
    "            minimum = i\n",
    "    print(minimum)\n",
    "\n",
    "min_elem([10, 5, 11, 6, 3, 8, 18, 2, 4])\n",
    "\n",
    "def max_elem(list):\n",
    "    maximum = list[0]\n",
    "    for i in list:\n",
    "        if i > maximum:\n",
    "            maximum = i\n",
    "    print(maximum)\n",
    "\n",
    "max_elem([10, 5, 11, 6, 3, 8, 18, 2, 4])"
   ]
  },
  {
   "cell_type": "code",
   "execution_count": 4,
   "metadata": {},
   "outputs": [
    {
     "name": "stdout",
     "output_type": "stream",
     "text": [
      "5\n"
     ]
    }
   ],
   "source": [
    "#25 Как посчитать количество элементов в списке?\n",
    "list = [1, 2, 3, 4, 5]\n",
    "print(len(list))"
   ]
  },
  {
   "cell_type": "code",
   "execution_count": 15,
   "metadata": {},
   "outputs": [
    {
     "name": "stdout",
     "output_type": "stream",
     "text": [
      "[1]\n",
      "[2, 3, 4, 5]\n",
      "[2, 3]\n",
      "[4, 5]\n"
     ]
    }
   ],
   "source": [
    "#26 Объясните разницу между a[:1], a[1:], a[1:3], a[-2:].\n",
    "a = [1, 2, 3, 4, 5]\n",
    "print(a[:1])\n",
    "print(a[1:])\n",
    "print(a[1:3])\n",
    "print(a[-2:])"
   ]
  },
  {
   "cell_type": "code",
   "execution_count": 17,
   "metadata": {},
   "outputs": [
    {
     "name": "stdout",
     "output_type": "stream",
     "text": [
      "[5, 6, 7]\n"
     ]
    }
   ],
   "source": [
    "#27 Напишите программу, которая выводит последние три элемента списка.\n",
    "list = [1, 2, 3, 4, 5, 6, 7]\n",
    "print(list[-3:])"
   ]
  },
  {
   "cell_type": "code",
   "execution_count": 18,
   "metadata": {},
   "outputs": [
    {
     "name": "stdout",
     "output_type": "stream",
     "text": [
      "[1, 2, 3, 4]\n"
     ]
    }
   ],
   "source": [
    "#28 Напишите программу, которая копирует список через срез.\n",
    "list = [1, 2, 3, 4]\n",
    "list2 = list[:]\n",
    "print(list2)"
   ]
  },
  {
   "cell_type": "code",
   "execution_count": 5,
   "metadata": {},
   "outputs": [
    {
     "name": "stdout",
     "output_type": "stream",
     "text": [
      "[12, 14, 16]\n"
     ]
    }
   ],
   "source": [
    "#29 Напишите код, который возвращает каждый второй элемент списка.\n",
    "list = [11, 12, 13, 14, 15, 16]\n",
    "list2 = []\n",
    "for i in range(1, len(list), 2):\n",
    "    list2.append(list[i])\n",
    "print(list2)"
   ]
  },
  {
   "cell_type": "code",
   "execution_count": 38,
   "metadata": {},
   "outputs": [
    {
     "name": "stdout",
     "output_type": "stream",
     "text": [
      "[]\n"
     ]
    }
   ],
   "source": [
    "#30 Объясните, что произойдёт, если взять срез у пустого списка.\n",
    "arr = []\n",
    "print(arr[:1])"
   ]
  },
  {
   "cell_type": "code",
   "execution_count": 44,
   "metadata": {},
   "outputs": [
    {
     "name": "stdout",
     "output_type": "stream",
     "text": [
      "KasymR\n"
     ]
    }
   ],
   "source": [
    "#31 Напишите программу, которая соединяет две строки.\n",
    "a = 'Kasym'\n",
    "b = 'R'\n",
    "print(a+b)"
   ]
  },
  {
   "cell_type": "code",
   "execution_count": 46,
   "metadata": {},
   "outputs": [
    {
     "name": "stdout",
     "output_type": "stream",
     "text": [
      "AITEmil\n",
      "AITAITAIT\n"
     ]
    }
   ],
   "source": [
    "#32 Объясните разницу между 'AIT' + 'Emil' и 'AIT' * 3.\n",
    "print('AIT' + 'Emil')\n",
    "print('AIT' * 3)"
   ]
  },
  {
   "cell_type": "code",
   "execution_count": 48,
   "metadata": {},
   "outputs": [
    {
     "name": "stdout",
     "output_type": "stream",
     "text": [
      "5\n"
     ]
    }
   ],
   "source": [
    "#33 Как посчитать количество символов в строке?\n",
    "name = 'kasym'\n",
    "print(len(name))"
   ]
  },
  {
   "cell_type": "code",
   "execution_count": 49,
   "metadata": {},
   "outputs": [
    {
     "name": "stdout",
     "output_type": "stream",
     "text": [
      "kasym\n",
      "KASYM\n"
     ]
    }
   ],
   "source": [
    "#34 Напишите программу, которая переводит строку в верхний и нижний регистр.\n",
    "name = 'KaSyM'\n",
    "print(name.lower())\n",
    "print(name.upper()) "
   ]
  },
  {
   "cell_type": "code",
   "execution_count": 35,
   "metadata": {},
   "outputs": [
    {
     "name": "stdout",
     "output_type": "stream",
     "text": [
      "True\n"
     ]
    }
   ],
   "source": [
    "#35 Напишите код, который проверяет, содержится ли буква 'a' в строке.\n",
    "name = 'KaAsym'\n",
    "for i in name.lower():\n",
    "    if i == 'a':\n",
    "        print(True)\n",
    "        break"
   ]
  },
  {
   "cell_type": "code",
   "execution_count": 82,
   "metadata": {},
   "outputs": [
    {
     "data": {
      "text/plain": [
       "1326"
      ]
     },
     "execution_count": 82,
     "metadata": {},
     "output_type": "execute_result"
    }
   ],
   "source": [
    "#36 Напишите функцию, которая принимает два числа и возвращает их сумму.\n",
    "def summa(a, b):\n",
    "    return a + b\n",
    "\n",
    "summa(342, 984)"
   ]
  },
  {
   "cell_type": "code",
   "execution_count": 85,
   "metadata": {},
   "outputs": [
    {
     "data": {
      "text/plain": [
       "14"
      ]
     },
     "execution_count": 85,
     "metadata": {},
     "output_type": "execute_result"
    }
   ],
   "source": [
    "#37 Что делает параметр по умолчанию в функции def f1(a, b, c=5): return a + b + c?\n",
    "def f1(a, b, c = 5):\n",
    "    return a + b + c\n",
    "\n",
    "f1(4, 5)\n",
    "#c = 5 means that if we don't have the third parameter, it will automatically have the value of 5"
   ]
  },
  {
   "cell_type": "code",
   "execution_count": 97,
   "metadata": {},
   "outputs": [
    {
     "data": {
      "text/plain": [
       "3628800"
      ]
     },
     "execution_count": 97,
     "metadata": {},
     "output_type": "execute_result"
    }
   ],
   "source": [
    "#38 Напишите функцию, которая возвращает факториал числа.\n",
    "def factorial(x):\n",
    "    count = 1\n",
    "    for i in range(1, x+1):\n",
    "        count *= i\n",
    "    return count\n",
    "\n",
    "factorial(10)"
   ]
  },
  {
   "cell_type": "code",
   "execution_count": 28,
   "metadata": {},
   "outputs": [
    {
     "data": {
      "text/plain": [
       "'The number is prime'"
      ]
     },
     "execution_count": 28,
     "metadata": {},
     "output_type": "execute_result"
    }
   ],
   "source": [
    "#39 Напишите функцию, которая проверяет, является ли число простым.\n",
    "def is_prime(x):\n",
    "    divisor_count = 0\n",
    "    if x <= 0:\n",
    "        return 'Invalid number'\n",
    "    else: \n",
    "        for i in range(1, x+1):\n",
    "            if x % i == 0:\n",
    "                divisor_count += 1\n",
    "        if divisor_count > 2:\n",
    "            return 'The number is not prime'\n",
    "        else: \n",
    "            return 'The number is prime'\n",
    "\n",
    "is_prime(67)"
   ]
  },
  {
   "cell_type": "code",
   "execution_count": 19,
   "metadata": {},
   "outputs": [
    {
     "data": {
      "text/plain": [
       "[11, 12, 13, 14, 15, 16]"
      ]
     },
     "execution_count": 19,
     "metadata": {},
     "output_type": "execute_result"
    }
   ],
   "source": [
    "#40 Напишите функцию, которая принимает список и возвращает новый список, где каждый элемент увеличен на 10.\n",
    "def list_plus10(list):\n",
    "    list2 = []\n",
    "    for i in list:\n",
    "        list2.append(i+10)\n",
    "    return list2\n",
    "\n",
    "list_plus10([1, 2, 3, 4, 5, 6])"
   ]
  },
  {
   "cell_type": "code",
   "execution_count": null,
   "metadata": {},
   "outputs": [],
   "source": [
    "#41 Напишите цикл, который печатает числа от 1 до 20.\n",
    "for i in range(1, 21):\n",
    "    print(i)"
   ]
  },
  {
   "cell_type": "code",
   "execution_count": 36,
   "metadata": {},
   "outputs": [
    {
     "name": "stdout",
     "output_type": "stream",
     "text": [
      "5\n"
     ]
    }
   ],
   "source": [
    "#42 Напишите программу, которая считает количество чётных чисел в списке.\n",
    "list = [1, 2, 3, 4, 5, 6, 7, 8, 9, 10]\n",
    "count = 0\n",
    "for i in list:\n",
    "    if i % 2 == 0:\n",
    "        count += 1\n",
    "print(count)"
   ]
  },
  {
   "cell_type": "code",
   "execution_count": 85,
   "metadata": {},
   "outputs": [
    {
     "name": "stdout",
     "output_type": "stream",
     "text": [
      "1\n",
      "2\n"
     ]
    }
   ],
   "source": [
    "#43 Что делает оператор break? Покажите пример.\n",
    "\n",
    "#break is used to exit from a loop \n",
    "\n",
    "i = 1\n",
    "while i <= 10:\n",
    "    if i % 3 == 0:\n",
    "        break\n",
    "    print(i)\n",
    "    i += 1"
   ]
  },
  {
   "cell_type": "code",
   "execution_count": null,
   "metadata": {},
   "outputs": [],
   "source": [
    "#44 Чем отличается for от while?\n",
    "\n",
    "#for --> \n",
    "# 1)Used when you know in advance how many times you want to repeat something. \n",
    "# 2)Usually goes through a sequence (list, string, range, etc.).\n",
    "# 3)Iterates over elements of a collection.\n",
    "\n",
    "#while -->\n",
    "# 1)Used when you don’t know exactly how many times the loop should run.\n",
    "# 2)Repeats as long as a condition is True.\n",
    "# 3)Often used for “repeat until something happens.”\n"
   ]
  },
  {
   "cell_type": "code",
   "execution_count": 37,
   "metadata": {},
   "outputs": [
    {
     "name": "stdout",
     "output_type": "stream",
     "text": [
      "7 * 1 = 7\n",
      "7 * 2 = 14\n",
      "7 * 3 = 21\n",
      "7 * 4 = 28\n",
      "7 * 5 = 35\n",
      "7 * 6 = 42\n",
      "7 * 7 = 49\n",
      "7 * 8 = 56\n",
      "7 * 9 = 63\n",
      "7 * 10 = 70\n"
     ]
    }
   ],
   "source": [
    "#45 Напишите программу, которая печатает таблицу умножения на 7.\n",
    "for i in range(1, 11):\n",
    "    print(f\"{7} * {i} = {7 * i}\")"
   ]
  },
  {
   "cell_type": "code",
   "execution_count": 53,
   "metadata": {},
   "outputs": [
    {
     "data": {
      "text/plain": [
       "['K', 'a', 's', 'y', 'm']"
      ]
     },
     "execution_count": 53,
     "metadata": {},
     "output_type": "execute_result"
    }
   ],
   "source": [
    "#46 Напишите функцию, которая принимает строку и возвращает список всех её символов.\n",
    "def spisok_elem(str):\n",
    "    arr = []\n",
    "    for i in str:\n",
    "        arr.append(i)\n",
    "    return arr\n",
    "\n",
    "spisok_elem('Kasym')"
   ]
  },
  {
   "cell_type": "code",
   "execution_count": 54,
   "metadata": {},
   "outputs": [
    {
     "name": "stdout",
     "output_type": "stream",
     "text": [
      "[51, 52, 53, 64, 65, 66]\n"
     ]
    }
   ],
   "source": [
    "#47 Напишите программу, которая фильтрует из списка только числа больше 50.\n",
    "arr = [1, 51, 2, 52, 3, 53, 4, 64, 5, 65, 6,66]\n",
    "arr2 = []\n",
    "for i in arr:\n",
    "    if i > 50:\n",
    "        arr2.append(i)\n",
    "print(arr2)"
   ]
  },
  {
   "cell_type": "code",
   "execution_count": 55,
   "metadata": {},
   "outputs": [
    {
     "name": "stdout",
     "output_type": "stream",
     "text": [
      "3.0\n"
     ]
    }
   ],
   "source": [
    "#48 Создайте программу, которая спрашивает у пользователя 5 чисел и выводит их среднее.\n",
    "a, b, c, d, e = map(int, input().split())\n",
    "print((a + b + c + d + e)/ 5)"
   ]
  },
  {
   "cell_type": "code",
   "execution_count": 57,
   "metadata": {},
   "outputs": [
    {
     "data": {
      "text/plain": [
       "[3, 6, 9]"
      ]
     },
     "execution_count": 57,
     "metadata": {},
     "output_type": "execute_result"
    }
   ],
   "source": [
    "#49 Напишите функцию, которая принимает список строк и возвращает список их длин.\n",
    "def dliny_strok(list):\n",
    "    arr = []\n",
    "    for i in list:\n",
    "        arr.append(len(i))\n",
    "    return arr\n",
    "dliny_strok(['qwe', 'qweqwe', 'qweqweqwe'])"
   ]
  },
  {
   "cell_type": "code",
   "execution_count": 36,
   "metadata": {},
   "outputs": [
    {
     "data": {
      "text/plain": [
       "['Even', 'Odd', 'Even', 'Odd', 'Even', 'Odd', 'Even', 'Odd']"
      ]
     },
     "execution_count": 36,
     "metadata": {},
     "output_type": "execute_result"
    }
   ],
   "source": [
    "#50 Реализуйте программу, которая принимает список чисел и печатает «чётное» или «нечётное» для каждого элемента.\n",
    "def even_or_odd(list):\n",
    "    arr = []\n",
    "    for i in list:\n",
    "        if i % 2 == 0:\n",
    "            arr.append('Even')\n",
    "        else:\n",
    "            arr.append('Odd')\n",
    "    return arr\n",
    "\n",
    "even_or_odd([0, 1, 2, 3, 4, 5, 6, 7])"
   ]
  },
  {
   "cell_type": "code",
   "execution_count": 57,
   "metadata": {},
   "outputs": [
    {
     "name": "stdout",
     "output_type": "stream",
     "text": [
      "[70, 88, 72, 62, 72, 66, 72, 56, 61, 87, 88, 88]\n"
     ]
    }
   ],
   "source": [
    "from random import randint\n",
    "c = [randint(50, 100) for i in range(1, 13)]\n",
    "print(c)"
   ]
  },
  {
   "cell_type": "code",
   "execution_count": 25,
   "metadata": {},
   "outputs": [
    {
     "name": "stdout",
     "output_type": "stream",
     "text": [
      "100 354224848179261915075\n",
      "time =  0.0004520416259765625\n"
     ]
    }
   ],
   "source": [
    "def fib(n):\n",
    "    n_2, n_1 = 0, 1\n",
    "    for i in range(1, n):\n",
    "        n_2, n_1 = n_1, n_2 + n_1\n",
    "    return n_1\n",
    "\n",
    "from time import time \n",
    "start = time()\n",
    "n = 100\n",
    "print(n, fib(n))\n",
    "print('time = ', time() - start)"
   ]
  },
  {
   "cell_type": "code",
   "execution_count": 37,
   "metadata": {},
   "outputs": [
    {
     "name": "stdout",
     "output_type": "stream",
     "text": [
      "[4, 5, 6]\n",
      "[4, 5, 6]\n"
     ]
    }
   ],
   "source": [
    "arr1 = [1, 2, 3]\n",
    "arr2 = [3, 4, 5, 6]\n",
    "\n",
    "for i in arr1:\n",
    "    if i in arr2:\n",
    "        arr2.remove(i)\n",
    "print(arr2)\n",
    "\n",
    "x = []\n",
    "for i in arr2:\n",
    "    if i not in arr1:\n",
    "        x.append(i)\n",
    "print(x)"
   ]
  },
  {
   "cell_type": "code",
   "execution_count": 60,
   "metadata": {},
   "outputs": [
    {
     "name": "stdout",
     "output_type": "stream",
     "text": [
      "95\n",
      "Total amount = 229\n"
     ]
    }
   ],
   "source": [
    "names = ['cola', 'smetana', 'banan', 'ananas', 'yogurt', 'bread', 'notebook']\n",
    "prices = [55, 95, 35, -20, 47, 30, 220]\n",
    "\n",
    "def getPrice(produkt):\n",
    "    for n, p in zip(names, prices):\n",
    "        if n == produkt:\n",
    "            return p\n",
    "    return 0\n",
    "\n",
    "def getPrice2(produkt):\n",
    "    for i in range(len(names)):\n",
    "        if names[i] == produkt:\n",
    "            return prices[i]\n",
    "    return 0\n",
    "\n",
    "print(getPrice('smetana'))\n",
    "\n",
    "def getTotal(produkti, kolichestvo):\n",
    "    total = 0\n",
    "    for tovar, kol in zip(produkti, kolichestvo):\n",
    "        total += getPrice(tovar) * kol\n",
    "    return total\n",
    "        \n",
    "produkti = ['bread', 'banan', 'yogurt']\n",
    "kolichestvo = [1, 3, 2]\n",
    "\n",
    "print('Total amount =', getTotal(produkti, kolichestvo))"
   ]
  },
  {
   "cell_type": "code",
   "execution_count": 6,
   "metadata": {},
   "outputs": [
    {
     "name": "stdout",
     "output_type": "stream",
     "text": [
      "Bread  45\n",
      "Egg  80\n",
      "Milk  65\n",
      "__________\n",
      "190\n"
     ]
    }
   ],
   "source": [
    "d = {\"Bread\": 45, \"Milk\": 65, \"Cheese\": 120, \"Egg\": 80, \"Tea\": 150}\n",
    "\n",
    "def total(products):\n",
    "    sum = 0\n",
    "    for i in products:\n",
    "        for k, v in d.items():\n",
    "            if k == i:\n",
    "                sum += v\n",
    "    return sum\n",
    "\n",
    "# print(total([\"Bread\", \"Egg\"]))\n",
    "\n",
    "def kvitansia(products):\n",
    "    for i in products:\n",
    "        for k, v in d.items():\n",
    "            if k == i:\n",
    "                print(f\"{k}  {v}\")\n",
    "    print(\"_\" * 10)\n",
    "    return total(products)\n",
    "\n",
    "print(kvitansia([\"Bread\", \"Egg\", \"Milk\"]))"
   ]
  },
  {
   "cell_type": "code",
   "execution_count": 7,
   "metadata": {},
   "outputs": [
    {
     "name": "stdout",
     "output_type": "stream",
     "text": [
      "Bread\t->\t45\n",
      "Milk\t->\t65\n",
      "Cola\t->\tNe naideno\n",
      "Egg\t->\t80\n",
      "Total : 190\n"
     ]
    }
   ],
   "source": [
    "d = {\"Bread\": 45, \"Milk\": 65, \"Cheese\": 120, \"Egg\": 80, \"Tea\": 150}\n",
    "\n",
    "def total(arr):\n",
    "    sum = 0\n",
    "    for item in arr:\n",
    "        if item in d:\n",
    "            sum += d[item]\n",
    "        else:\n",
    "            sum += 0\n",
    "        #sum += d.get(item, 0)\n",
    "    return sum\n",
    "\n",
    "# print('Total:', total([\"Bread\", \"Egg\", \"Tea\"]))\n",
    "\n",
    "def kvitansia(arr):\n",
    "    s = ''\n",
    "    total = 0\n",
    "    for item in arr:\n",
    "        s += f'{item}\\t->\\t{d.get(item, \"Ne naideno\")}\\n'\n",
    "        total += d.get(item, 0)\n",
    "    s += f'Total : {total}'\n",
    "    return s\n",
    "\n",
    "print(kvitansia(['Bread', 'Milk', 'Cola', 'Egg']))\n"
   ]
  }
 ],
 "metadata": {
  "kernelspec": {
   "display_name": "Python 3",
   "language": "python",
   "name": "python3"
  },
  "language_info": {
   "codemirror_mode": {
    "name": "ipython",
    "version": 3
   },
   "file_extension": ".py",
   "mimetype": "text/x-python",
   "name": "python",
   "nbconvert_exporter": "python",
   "pygments_lexer": "ipython3",
   "version": "3.12.4"
  }
 },
 "nbformat": 4,
 "nbformat_minor": 2
}
