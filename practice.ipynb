{
 "cells": [
  {
   "cell_type": "code",
   "execution_count": 2,
   "metadata": {},
   "outputs": [
    {
     "name": "stdout",
     "output_type": "stream",
     "text": [
      "[1, 2, 3, 4]\n"
     ]
    }
   ],
   "source": [
    "#1 Что напечатает код?\n",
    "a = [1, 2, 3]\n",
    "b = a\n",
    "b.append(4)\n",
    "print(a)"
   ]
  },
  {
   "cell_type": "code",
   "execution_count": 2,
   "metadata": {},
   "outputs": [
    {
     "name": "stdout",
     "output_type": "stream",
     "text": [
      "longest\n"
     ]
    }
   ],
   "source": [
    "#2 Напишите программу, которая принимает список слов и находит самое длинное слово.\n",
    "list = ['q', 'qq', 'qweqwe', 'longest', 'short']\n",
    "print(max(list, key=len))"
   ]
  },
  {
   "cell_type": "code",
   "execution_count": 71,
   "metadata": {},
   "outputs": [
    {
     "name": "stdout",
     "output_type": "stream",
     "text": [
      "Hello World\n"
     ]
    }
   ],
   "source": [
    "#3 Дана строка \"hello world\". Сделайте так, чтобы каждая первая буква слова была заглавной.\n",
    "s = 'hello world'\n",
    "print(s.title())"
   ]
  },
  {
   "cell_type": "code",
   "execution_count": 13,
   "metadata": {},
   "outputs": [
    {
     "name": "stdout",
     "output_type": "stream",
     "text": [
      "[5, 4, 3, 2, 1]\n"
     ]
    }
   ],
   "source": [
    "#4 Напишите программу, которая переворачивает список без использования метода reverse().\n",
    "list = [1, 2, 3, 4, 5]\n",
    "print(list[::-1])"
   ]
  },
  {
   "cell_type": "code",
   "execution_count": 48,
   "metadata": {},
   "outputs": [
    {
     "name": "stdout",
     "output_type": "stream",
     "text": [
      "True\n"
     ]
    }
   ],
   "source": [
    "#5 Реализуйте функцию, которая принимает строку и возвращает True, если это палиндром.\n",
    "x = '123q321'\n",
    "x = x.lower()\n",
    "reversed_x = \"\".join(reversed(x))\n",
    "if x == reversed_x:\n",
    "    print('True')\n",
    "else: \n",
    "    print('False')"
   ]
  },
  {
   "cell_type": "code",
   "execution_count": 52,
   "metadata": {},
   "outputs": [
    {
     "name": "stdout",
     "output_type": "stream",
     "text": [
      "bnn\n"
     ]
    }
   ],
   "source": [
    "#6 Дана строка \"banana\". Как убрать все буквы \"a\" и получить \"bnn\"?\n",
    "x = 'banana'\n",
    "y = ''\n",
    "for i in x:\n",
    "    if i != 'a':\n",
    "        y += i\n",
    "print(y)"
   ]
  },
  {
   "cell_type": "code",
   "execution_count": 53,
   "metadata": {},
   "outputs": [
    {
     "name": "stdout",
     "output_type": "stream",
     "text": [
      "[1, 2, 3] [100, 2, 3]\n"
     ]
    }
   ],
   "source": [
    "#7 Что напечатает код?\n",
    "x = [1, 2, 3]\n",
    "y = x[:]\n",
    "y[0] = 100\n",
    "print(x, y)"
   ]
  },
  {
   "cell_type": "code",
   "execution_count": 68,
   "metadata": {},
   "outputs": [
    {
     "name": "stdout",
     "output_type": "stream",
     "text": [
      "p_y_t_h_o_n\n"
     ]
    }
   ],
   "source": [
    "#8 Дана строка \"python\". Сделайте так, чтобы вывод был \"p_y_t_h_o_n\". \n",
    "str = \"python\"\n",
    "x = \"_\".join(str)\n",
    "print(x)"
   ]
  },
  {
   "cell_type": "code",
   "execution_count": 69,
   "metadata": {},
   "outputs": [
    {
     "name": "stdout",
     "output_type": "stream",
     "text": [
      "[1, 2, 4, 5, 10, 20]\n"
     ]
    }
   ],
   "source": [
    "#9 Реализуйте функцию, которая принимает число и возвращает список его делителей.\n",
    "x = int(input())\n",
    "arr = []\n",
    "for i in range(1, x+1):\n",
    "    if x % i == 0:\n",
    "        arr.append(i)\n",
    "print(arr)"
   ]
  },
  {
   "cell_type": "code",
   "execution_count": 72,
   "metadata": {},
   "outputs": [
    {
     "name": "stdout",
     "output_type": "stream",
     "text": [
      "{1: 1, 2: 4, 3: 9, 4: 16, 5: 25}\n"
     ]
    }
   ],
   "source": [
    "#10 Создайте словарь, где ключ — это число от 1 до 5, а значение — его квадрат.\n",
    "squares = {z: z ** 2 for z in range(1, 6)}\n",
    "print(squares)"
   ]
  }
 ],
 "metadata": {
  "kernelspec": {
   "display_name": "Python 3",
   "language": "python",
   "name": "python3"
  },
  "language_info": {
   "codemirror_mode": {
    "name": "ipython",
    "version": 3
   },
   "file_extension": ".py",
   "mimetype": "text/x-python",
   "name": "python",
   "nbconvert_exporter": "python",
   "pygments_lexer": "ipython3",
   "version": "3.12.4"
  }
 },
 "nbformat": 4,
 "nbformat_minor": 2
}
